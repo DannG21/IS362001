{
 "cells": [
  {
   "cell_type": "code",
   "execution_count": 1,
   "id": "bb9bbbc5-a6fd-49b5-85d7-c349ac90f266",
   "metadata": {},
   "outputs": [],
   "source": [
    "import sqlite3\n",
    "import pandas as pd"
   ]
  },
  {
   "cell_type": "code",
   "execution_count": 3,
   "id": "8ce477d9-fcdc-42a7-8280-4eb7c4a023b2",
   "metadata": {},
   "outputs": [],
   "source": [
    "conn = sqlite3.connect('Chinook.db')"
   ]
  },
  {
   "cell_type": "code",
   "execution_count": 5,
   "id": "aeaa2d9e-a731-466e-9881-a3ade06f6d90",
   "metadata": {},
   "outputs": [],
   "source": [
    "query = '''\n",
    "    SELECT\n",
    "        c.LastName,\n",
    "        c.FirstName,\n",
    "        t.Name AS TrackName,\n",
    "        al.Title AS AlbumTitle\n",
    "    FROM\n",
    "        Customer c\n",
    "    JOIN\n",
    "        Invoice i ON c.CustomerId = i.CustomerId\n",
    "    JOIN\n",
    "        InvoiceLine il ON i.InvoiceId = il.InvoiceId\n",
    "    JOIN\n",
    "        Track t ON il.TrackId = t.TrackId\n",
    "    JOIN\n",
    "        Album al ON t.AlbumId = al.AlbumId\n",
    "    ORDER BY\n",
    "        c.LastName, c.FirstName;\n",
    "'''"
   ]
  },
  {
   "cell_type": "code",
   "execution_count": null,
   "id": "edefbdf0-b22d-4b07-937f-8fc1df4d49a5",
   "metadata": {},
   "outputs": [],
   "source": [
    "df = pd.read_sql_query(query, conn)"
   ]
  },
  {
   "cell_type": "code",
   "execution_count": null,
   "id": "8c8bb118-86d0-430f-a3df-ceb23128b886",
   "metadata": {},
   "outputs": [],
   "source": [
    "print(df.head())"
   ]
  },
  {
   "cell_type": "code",
   "execution_count": null,
   "id": "b626be31-faf4-4688-b379-b30ba11d2abc",
   "metadata": {},
   "outputs": [],
   "source": [
    "conn.close()"
   ]
  }
 ],
 "metadata": {
  "kernelspec": {
   "display_name": "Python 3 (ipykernel)",
   "language": "python",
   "name": "python3"
  },
  "language_info": {
   "codemirror_mode": {
    "name": "ipython",
    "version": 3
   },
   "file_extension": ".py",
   "mimetype": "text/x-python",
   "name": "python",
   "nbconvert_exporter": "python",
   "pygments_lexer": "ipython3",
   "version": "3.12.4"
  }
 },
 "nbformat": 4,
 "nbformat_minor": 5
}
