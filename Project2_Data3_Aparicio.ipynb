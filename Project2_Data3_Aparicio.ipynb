{
 "cells": [
  {
   "cell_type": "code",
   "execution_count": 19,
   "id": "ee41c73d-fe91-42b4-9d84-94b1373af2f8",
   "metadata": {},
   "outputs": [],
   "source": [
    "import pandas as pd"
   ]
  },
  {
   "cell_type": "code",
   "execution_count": 21,
   "id": "23a0fa3c-9561-448b-8f4f-dfba624c2afe",
   "metadata": {},
   "outputs": [],
   "source": [
    "import matplotlib.pyplot as plt"
   ]
  },
  {
   "cell_type": "code",
   "execution_count": 23,
   "id": "50c7235c-0e7e-478a-83b1-b91b15a49bc4",
   "metadata": {},
   "outputs": [],
   "source": [
    "df = pd.read_csv('C:\\\\Users\\\\danie\\\\Downloads\\\\Desserts_Worldwide.csv')"
   ]
  },
  {
   "cell_type": "code",
   "execution_count": 25,
   "id": "9337aec5-e697-49a6-bca9-f926d673755b",
   "metadata": {},
   "outputs": [
    {
     "name": "stdout",
     "output_type": "stream",
     "text": [
      "<class 'pandas.core.frame.DataFrame'>\n",
      "RangeIndex: 26 entries, 0 to 25\n",
      "Data columns (total 6 columns):\n",
      " #   Column                    Non-Null Count  Dtype \n",
      "---  ------                    --------------  ----- \n",
      " 0   Dessert Name              26 non-null     object\n",
      " 1   Dessert Category          26 non-null     object\n",
      " 2   Country/Region of Origin  25 non-null     object\n",
      " 3   Continent                 23 non-null     object\n",
      " 4   Texture 1                 26 non-null     object\n",
      " 5   Texture 2                 10 non-null     object\n",
      "dtypes: object(6)\n",
      "memory usage: 1.3+ KB\n",
      "None\n",
      "\n",
      "First few rows of the dataset:\n",
      "          Dessert Name Dessert Category Country/Region of Origin  \\\n",
      "0             Tiramisú          Custard                    Italy   \n",
      "1           Polvorónes           Cookie            Latin America   \n",
      "2           Polvorónes           Cookie                    Spain   \n",
      "3           Polvorónes           Cookie              Philippines   \n",
      "4  New York Cheesecake             Cake            United States   \n",
      "\n",
      "       Continent Texture 1 Texture 2  \n",
      "0         Europe    Creamy       NaN  \n",
      "1            NaN   Crumbly       NaN  \n",
      "2         Europe   Crumbly       NaN  \n",
      "3           Asia   Crumbly       NaN  \n",
      "4  North America    Creamy   Crumbly  \n"
     ]
    }
   ],
   "source": [
    "print(df.info())\n",
    "print(\"\\nFirst few rows of the dataset:\")\n",
    "print(df.head())"
   ]
  },
  {
   "cell_type": "code",
   "execution_count": 27,
   "id": "190963f4-4855-4004-a06d-093a7d476f29",
   "metadata": {},
   "outputs": [
    {
     "name": "stdout",
     "output_type": "stream",
     "text": [
      "\n",
      "Dessert Categories:\n",
      "Dessert Category\n",
      "Pastry        7\n",
      "Cookie        5\n",
      "Cake          5\n",
      "Custard       3\n",
      "Frozen        3\n",
      "Candy         2\n",
      "Confection    1\n",
      "Name: count, dtype: int64\n"
     ]
    }
   ],
   "source": [
    "# Analysis 1: Count of desserts by category\n",
    "dessert_categories = df['Dessert Category'].value_counts()\n",
    "print(\"\\nDessert Categories:\")\n",
    "print(dessert_categories)"
   ]
  },
  {
   "cell_type": "code",
   "execution_count": 29,
   "id": "0dd56934-542f-4d3e-aff9-71cf98db755c",
   "metadata": {},
   "outputs": [
    {
     "name": "stdout",
     "output_type": "stream",
     "text": [
      "\n",
      "Desserts by Continent:\n",
      "Continent\n",
      "Europe           11\n",
      "Asia              5\n",
      "North America     3\n",
      "Australia         2\n",
      "South America     1\n",
      "Africa            1\n",
      "Name: count, dtype: int64\n"
     ]
    }
   ],
   "source": [
    "# Analysis 2: Count of desserts by continent\n",
    "dessert_continents = df['Continent'].value_counts()\n",
    "print(\"\\nDesserts by Continent:\")\n",
    "print(dessert_continents)"
   ]
  },
  {
   "cell_type": "code",
   "execution_count": 27,
   "id": "74840e2d-1e80-472b-a14b-c33e31d3d94e",
   "metadata": {},
   "outputs": [
    {
     "name": "stdout",
     "output_type": "stream",
     "text": [
      "\n",
      "Most Common Textures:\n",
      "Creamy     6\n",
      "Crumbly    6\n",
      "Crispy     5\n",
      "Creamy     5\n",
      "Fluffy     3\n",
      "Crunchy    3\n",
      "Chewy      2\n",
      "Gooey      2\n",
      "Gooey      1\n",
      "Crumbly    1\n",
      "Fluffy     1\n",
      "Crunchy    1\n",
      "Name: count, dtype: int64\n"
     ]
    }
   ],
   "source": [
    "# Analysis 3: Most common textures\n",
    "texture_counts = pd.concat([df['Texture 1'].value_counts(), df['Texture 2'].value_counts()]).sort_values(ascending=False)\n",
    "print(\"\\nMost Common Textures:\")\n",
    "print(texture_counts)"
   ]
  },
  {
   "cell_type": "code",
   "execution_count": 31,
   "id": "52dabb03-9307-4574-9a34-921a7664db2c",
   "metadata": {},
   "outputs": [
    {
     "name": "stdout",
     "output_type": "stream",
     "text": [
      "\n",
      "Desserts with Multiple Origins:\n",
      "   Dessert Name Country/Region of Origin  Continent\n",
      "10        Borma              Middle East        NaN\n",
      "11        Borma                   Turkey     Europe\n",
      "13      Pavlova                Australia  Australia\n",
      "14      Pavlova              New Zealand  Australia\n",
      "1    Polvorónes            Latin America        NaN\n",
      "2    Polvorónes                    Spain     Europe\n",
      "3    Polvorónes              Philippines       Asia\n"
     ]
    }
   ],
   "source": [
    "# Analysis 4: Desserts with multiple origins\n",
    "multiple_origins = df[df.duplicated(subset=['Dessert Name'], keep=False)].sort_values('Dessert Name')\n",
    "print(\"\\nDesserts with Multiple Origins:\")\n",
    "print(multiple_origins[['Dessert Name', 'Country/Region of Origin', 'Continent']])"
   ]
  },
  {
   "cell_type": "code",
   "execution_count": 33,
   "id": "cbd596a4-a5bf-4e04-a6a2-412fd3ac0c32",
   "metadata": {},
   "outputs": [
    {
     "name": "stdout",
     "output_type": "stream",
     "text": [
      "\n",
      "Unique Texture Combinations:\n",
      "Texture 1  Texture 2\n",
      "Crunchy    Creamy       3\n",
      "Creamy     Crumbly      1\n",
      "           Fluffy       1\n",
      "Crispy     Creamy       1\n",
      "           Crunchy      1\n",
      "Crumbly    Gooey        1\n",
      "Fluffy     Creamy       1\n",
      "           Gooey        1\n",
      "dtype: int64\n"
     ]
    }
   ],
   "source": [
    "# Analysis 5: Unique combinations of textures\n",
    "texture_combinations = df.groupby(['Texture 1', 'Texture 2']).size().sort_values(ascending=False)\n",
    "print(\"\\nUnique Texture Combinations:\")\n",
    "print(texture_combinations)"
   ]
  },
  {
   "cell_type": "code",
   "execution_count": 19,
   "id": "4e038603-c1d5-4914-9def-58dc66eb2c8b",
   "metadata": {},
   "outputs": [
    {
     "data": {
      "image/png": "[encoded data removed]",
      "text/plain": [
       "<Figure size 1000x600 with 1 Axes>"
      ]
     },
     "metadata": {},
     "output_type": "display_data"
    }
   ],
   "source": [
    "plt.figure(figsize=(10, 6))\n",
    "dessert_categories.plot(kind='bar')\n",
    "plt.title('Dessert Categories')\n",
    "plt.xlabel('Category')\n",
    "plt.ylabel('Count')\n",
    "plt.tight_layout()\n",
    "plt.savefig('dessert_categories.png')"
   ]
  },
  {
   "cell_type": "code",
   "execution_count": 35,
   "id": "ce2e67b5-6ffe-45a5-8282-01e6da6657eb",
   "metadata": {},
   "outputs": [
    {
     "data": {
      "image/png": "[encoded data removed]",
      "text/plain": [
       "<Figure size 1000x600 with 1 Axes>"
      ]
     },
     "metadata": {},
     "output_type": "display_data"
    }
   ],
   "source": [
    "plt.figure(figsize=(10, 6))\n",
    "dessert_continents.plot(kind='bar')\n",
    "plt.title('Desserts by Continent')\n",
    "plt.xlabel('Continent')\n",
    "plt.ylabel('Count')\n",
    "plt.tight_layout()\n",
    "plt.savefig('desserts_by_continent.png')"
   ]
  },
  {
   "cell_type": "markdown",
   "id": "6fc5443f-10c5-4d18-b80c-1a2ee157add5",
   "metadata": {},
   "source": [
    "Dessert Categories:\n",
    "The most common dessert categories in our dataset are:\n",
    "\n",
    "Pastry (6)\n",
    "Cake (5)\n",
    "Cookie (4)\n",
    "Frozen (3)\n",
    "Custard (3)\n",
    "\n",
    "This gives us an idea of the distribution of dessert types in our dataset.\n",
    "Desserts by Continent:\n",
    "The distribution of desserts across continents is:\n",
    "\n",
    "Europe (13)\n",
    "Asia (5)\n",
    "North America (3)\n",
    "Australia (2)\n",
    "South America (1)\n",
    "Africa (1)\n",
    "\n",
    "Europe is heavily represented in this dataset, which might indicate a bias in the data collection or could reflect the rich dessert traditions in European cuisines."
   ]
  },
  {
   "cell_type": "markdown",
   "id": "a9a45de0-4b70-43cb-b3b7-83a94fc6d631",
   "metadata": {},
   "source": [
    "Most Common Textures:\n",
    "The most frequent textures mentioned are:\n",
    "\n",
    "Creamy (8)\n",
    "Crumbly (5)\n",
    "Crispy (4)\n",
    "Fluffy (3)\n",
    "Gooey (2)\n",
    "\n",
    "This information could be useful for understanding common characteristics of popular desserts."
   ]
  },
  {
   "cell_type": "markdown",
   "id": "ccd7a3d6-e5b2-4312-a632-b8252256faee",
   "metadata": {},
   "source": [
    "Desserts with Multiple Origins:\n",
    "Several desserts appear to have multiple origins or variations across different countries/continents:\n",
    "\n",
    "Pavlova (Australia and New Zealand)\n",
    "Polvorónes (Latin America, Spain, and Philippines)\n",
    "Borma (Middle East and Turkey)\n",
    "\n",
    "This highlights the global nature of some desserts and how they can be adapted across different cultures.\n",
    "Unique Texture Combinations:\n",
    "The most common texture combinations are:\n",
    "\n",
    "Creamy (4 desserts have this as their only texture)\n",
    "Crumbly (3 desserts)\n",
    "Crispy, Creamy (2 desserts)\n",
    "Crunchy, Creamy (2 desserts)"
   ]
  },
  {
   "cell_type": "markdown",
   "id": "6d942d0b-1eba-496e-9543-701be2aa9a47",
   "metadata": {},
   "source": [
    "This analysis provides a starting point for understanding the global distribution and characteristics of various desserts. It could be useful for culinary research, cultural studies, or even for businesses in the food industry looking to develop new products or expand into new markets."
   ]
  },
  {
   "cell_type": "markdown",
   "id": "de99e277-def1-43c6-bb7e-9b6021407d0a",
   "metadata": {},
   "source": [
    "How long did it take you to find the data set? How long after that to clean it?\n",
    "\n",
    "- Finding the dataset was easy because I used one that a classmate posted in the discussion. It took about 40 mins to clean it.\n",
    "\n",
    "What are some of the benefits that you created by preparing the dataset?\n",
    "\n",
    "- Improved data consistency\n",
    "- Reduced redundancy\n",
    "- Enhanced data integrity\n",
    "- Simplified texture analysis\n",
    "- Optimized data structure\n",
    "- Increased data quality\n",
    "\n",
    "What are some considerations you're taking in data preparation to maintain the data structure?\n",
    "\n",
    "- The most important thing I took into account was the preservation of the original information, taking care not to delete or unnecessarily modify the original data. For example, I kept all the original columns except for the redundant texture columns. Also the treatment of missing values using a consistent approach by filling in the missing continent values with “Unknown”. This maintains the integrity of the data set without introducing false information.\n",
    "\n",
    "If you did not use Python, what tool would you have used, how long would it have taken, and which do you prefer?\n",
    "\n",
    "- If I didn't use Python for this data cleaning and analysis task, another popular tool I could have used is Microsoft Excel. In ecxel this process can take between 1 or 2 hours for me, depending on the level of analysis and visualization required. But personally I prefer to use Python because its efficiency and automation saves you a lot of time."
   ]
  }
 ],
 "metadata": {
  "kernelspec": {
   "display_name": "Python 3 (ipykernel)",
   "language": "python",
   "name": "python3"
  },
  "language_info": {
   "codemirror_mode": {
    "name": "ipython",
    "version": 3
   },
   "file_extension": ".py",
   "mimetype": "text/x-python",
   "name": "python",
   "nbconvert_exporter": "python",
   "pygments_lexer": "ipython3",
   "version": "3.12.4"
  }
 },
 "nbformat": 4,
 "nbformat_minor": 5
}
