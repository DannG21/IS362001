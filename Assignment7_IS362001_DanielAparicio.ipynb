{
 "cells": [
  {
   "cell_type": "code",
   "execution_count": 99,
   "id": "95e1b0a0-5e54-4b88-9112-dbbaaa74eef9",
   "metadata": {},
   "outputs": [],
   "source": [
    "import pandas as pd"
   ]
  },
  {
   "cell_type": "code",
   "execution_count": 44,
   "id": "f4938f0a-4d44-455d-8554-f3a3fc256b3f",
   "metadata": {},
   "outputs": [],
   "source": [
    "df = pd.read_csv('C:\\\\Users\\\\danie\\\\Desktop\\\\movie_ratings.csv')"
   ]
  },
  {
   "cell_type": "code",
   "execution_count": 50,
   "id": "e3eebe14-0fe0-46d9-b453-77082c00eb41",
   "metadata": {},
   "outputs": [
    {
     "data": {
      "text/html": [
       "<div>\n",
       "<style scoped>\n",
       "    .dataframe tbody tr th:only-of-type {\n",
       "        vertical-align: middle;\n",
       "    }\n",
       "\n",
       "    .dataframe tbody tr th {\n",
       "        vertical-align: top;\n",
       "    }\n",
       "\n",
       "    .dataframe thead th {\n",
       "        text-align: right;\n",
       "    }\n",
       "</style>\n",
       "<table border=\"1\" class=\"dataframe\">\n",
       "  <thead>\n",
       "    <tr style=\"text-align: right;\">\n",
       "      <th></th>\n",
       "      <th>Unnamed: 0</th>\n",
       "      <th>Oppenheimer</th>\n",
       "      <th>Barbie</th>\n",
       "      <th>The Super Mario Bros</th>\n",
       "      <th>Guardians of the Galaxy</th>\n",
       "      <th>Spider-Man</th>\n",
       "      <th>Mission: Impossible</th>\n",
       "    </tr>\n",
       "  </thead>\n",
       "  <tbody>\n",
       "    <tr>\n",
       "      <th>0</th>\n",
       "      <td>Alice</td>\n",
       "      <td>3</td>\n",
       "      <td>4</td>\n",
       "      <td>3</td>\n",
       "      <td>5</td>\n",
       "      <td>4</td>\n",
       "      <td>4</td>\n",
       "    </tr>\n",
       "    <tr>\n",
       "      <th>1</th>\n",
       "      <td>Bob</td>\n",
       "      <td>5</td>\n",
       "      <td>5</td>\n",
       "      <td>4</td>\n",
       "      <td>3</td>\n",
       "      <td>5</td>\n",
       "      <td>3</td>\n",
       "    </tr>\n",
       "    <tr>\n",
       "      <th>2</th>\n",
       "      <td>Charlie</td>\n",
       "      <td>5</td>\n",
       "      <td>3</td>\n",
       "      <td>4</td>\n",
       "      <td>4</td>\n",
       "      <td>5</td>\n",
       "      <td>5</td>\n",
       "    </tr>\n",
       "    <tr>\n",
       "      <th>3</th>\n",
       "      <td>David</td>\n",
       "      <td>4</td>\n",
       "      <td>5</td>\n",
       "      <td>3</td>\n",
       "      <td>5</td>\n",
       "      <td>4</td>\n",
       "      <td>4</td>\n",
       "    </tr>\n",
       "    <tr>\n",
       "      <th>4</th>\n",
       "      <td>Eve</td>\n",
       "      <td>3</td>\n",
       "      <td>4</td>\n",
       "      <td>5</td>\n",
       "      <td>4</td>\n",
       "      <td>5</td>\n",
       "      <td>4</td>\n",
       "    </tr>\n",
       "  </tbody>\n",
       "</table>\n",
       "</div>"
      ],
      "text/plain": [
       "  Unnamed: 0  Oppenheimer  Barbie  The Super Mario Bros  \\\n",
       "0      Alice            3       4                     3   \n",
       "1        Bob            5       5                     4   \n",
       "2    Charlie            5       3                     4   \n",
       "3      David            4       5                     3   \n",
       "4        Eve            3       4                     5   \n",
       "\n",
       "   Guardians of the Galaxy  Spider-Man  Mission: Impossible  \n",
       "0                        5           4                    4  \n",
       "1                        3           5                    3  \n",
       "2                        4           5                    5  \n",
       "3                        5           4                    4  \n",
       "4                        4           5                    4  "
      ]
     },
     "execution_count": 50,
     "metadata": {},
     "output_type": "execute_result"
    }
   ],
   "source": [
    "df.head()"
   ]
  },
  {
   "cell_type": "code",
   "execution_count": 52,
   "id": "b109c3f3-3e4f-401f-8f39-3bf3c115cee0",
   "metadata": {},
   "outputs": [],
   "source": [
    "avg_movie_ratings = df.iloc[:, 1:].mean(axis=0)"
   ]
  },
  {
   "cell_type": "code",
   "execution_count": 54,
   "id": "e7850432-7b3a-474c-a52d-6ccd105bf427",
   "metadata": {},
   "outputs": [],
   "source": [
    "avg_user_ratings = df.iloc[:, 1:].mean(axis=1)"
   ]
  },
  {
   "cell_type": "code",
   "execution_count": 56,
   "id": "cf5dd833-5ddb-400e-9b44-42cb45e6b928",
   "metadata": {},
   "outputs": [
    {
     "data": {
      "text/plain": [
       "(Oppenheimer                4.0\n",
       " Barbie                     4.2\n",
       " The Super Mario Bros       3.8\n",
       " Guardians of the Galaxy    4.2\n",
       " Spider-Man                 4.6\n",
       " Mission: Impossible        4.0\n",
       " dtype: float64,\n",
       " 0    3.833333\n",
       " 1    4.166667\n",
       " 2    4.333333\n",
       " 3    4.166667\n",
       " 4    4.166667\n",
       " dtype: float64)"
      ]
     },
     "execution_count": 56,
     "metadata": {},
     "output_type": "execute_result"
    }
   ],
   "source": [
    "avg_movie_ratings, avg_user_ratings"
   ]
  },
  {
   "cell_type": "code",
   "execution_count": 58,
   "id": "c18d3b2c-5cb5-4efc-89ce-2057bd36339c",
   "metadata": {},
   "outputs": [],
   "source": [
    "normalized_df = (df.iloc[:, 1:] - df.iloc[:, 1:].min()) / (df.iloc[:, 1:].max() - df.iloc[:, 1:].min())"
   ]
  },
  {
   "cell_type": "code",
   "execution_count": 60,
   "id": "77ecbb4f-6210-4166-89c3-18a9af844587",
   "metadata": {},
   "outputs": [],
   "source": [
    "avg_normalized_movie_ratings = normalized_df.mean(axis=0)"
   ]
  },
  {
   "cell_type": "code",
   "execution_count": 62,
   "id": "fd46f32c-be57-4847-9751-91bf6e6075f6",
   "metadata": {},
   "outputs": [],
   "source": [
    "avg_normalized_user_ratings = normalized_df.mean(axis=1)"
   ]
  },
  {
   "cell_type": "code",
   "execution_count": 64,
   "id": "087a14e0-8a22-42c8-8967-3e5cc7ac0c44",
   "metadata": {},
   "outputs": [
    {
     "data": {
      "text/plain": [
       "(Oppenheimer                0.5\n",
       " Barbie                     0.6\n",
       " The Super Mario Bros       0.4\n",
       " Guardians of the Galaxy    0.6\n",
       " Spider-Man                 0.6\n",
       " Mission: Impossible        0.5\n",
       " dtype: float64,\n",
       " 0    0.333333\n",
       " 1    0.583333\n",
       " 2    0.666667\n",
       " 3    0.500000\n",
       " 4    0.583333\n",
       " dtype: float64)"
      ]
     },
     "execution_count": 64,
     "metadata": {},
     "output_type": "execute_result"
    }
   ],
   "source": [
    "avg_normalized_movie_ratings, avg_normalized_user_ratings"
   ]
  },
  {
   "cell_type": "markdown",
   "id": "83675433-162e-4326-a686-0dd08b779513",
   "metadata": {},
   "source": [
    "Original Ratings vs. Normalized Ratings:\n",
    "\n",
    "- In the original ratings, the scores ranged from 3 to 5 across various users and movies. The averages provided a straightforward view of preferences, with \"Spider-Man\" having the highest average rating (4.6) and \"The Super Mario Bros\" the lowest (3.8).\n",
    "- Normalization rescales the data between 0 and 1, making it easier to compare ratings regardless of the original scale. For example, in the normalized results, \"Barbie,\" \"Guardians of the Galaxy,\" and \"Spider-Man\" all have higher average ratings (0.6), indicating their relatively higher popularity across the board."
   ]
  },
  {
   "cell_type": "markdown",
   "id": "c0e58607-8d19-4ec1-8a57-69a9c54dc33d",
   "metadata": {},
   "source": [
    "Normalization brings all ratings onto the same scale (0 to 1), which is especially useful when comparing ratings from users who might use different rating styles. For example, some users may tend to give higher ratings on average, while others may be more critical."
   ]
  },
  {
   "cell_type": "markdown",
   "id": "549b1eb3-c239-4299-8934-76bff7fd9b87",
   "metadata": {},
   "source": [
    "Insights from the Results:\n",
    "\n",
    "- Even after normalization, \"Spider-Man\" remains highly rated, indicating a strong, consistent preference for that movie across users.\n",
    "- \"The Super Mario Bros\" has a lower normalized average (0.4), confirming that it was generally less favored.\n",
    "- Users like Charlie, who had a higher normalized average (0.67), rated movies higher on average compared to others like Alice (0.33), who may have been more critical."
   ]
  },
  {
   "cell_type": "markdown",
   "id": "b303365f-5069-49f6-b610-1a38628ea472",
   "metadata": {},
   "source": [
    "Overall, normalization is valuable for comparing ratings across different users by bringing the data to a common scale. However, it can obscure the original meaning of ratings, and care should be taken when interpreting results."
   ]
  },
  {
   "cell_type": "code",
   "execution_count": 90,
   "id": "69016800-f555-4ffc-b579-01d90d0538b2",
   "metadata": {},
   "outputs": [],
   "source": [
    "standardized_df = (df.iloc[:, 1:] - df.iloc[:, 1:].mean()) / df.iloc[:, 1:].std()"
   ]
  },
  {
   "cell_type": "code",
   "execution_count": 92,
   "id": "afc9bd4b-cb3a-4003-9b25-03243794f6cb",
   "metadata": {},
   "outputs": [],
   "source": [
    "avg_standardized_movie_ratings = standardized_df.mean(axis=0)"
   ]
  },
  {
   "cell_type": "code",
   "execution_count": 94,
   "id": "c09066c6-4555-4f01-9c1c-cda9526359a3",
   "metadata": {},
   "outputs": [],
   "source": [
    "avg_standardized_user_ratings = standardized_df.mean(axis=1)"
   ]
  },
  {
   "cell_type": "code",
   "execution_count": 96,
   "id": "2f0e7ce8-8e0d-41b6-99d7-3a5218058c1b",
   "metadata": {},
   "outputs": [
    {
     "data": {
      "text/plain": [
       "(Oppenheimer                0.000000e+00\n",
       " Barbie                    -1.887379e-16\n",
       " The Super Mario Bros       1.776357e-16\n",
       " Guardians of the Galaxy   -1.887379e-16\n",
       " Spider-Man                 5.995204e-16\n",
       " Mission: Impossible        0.000000e+00\n",
       " dtype: float64,\n",
       " 0   -0.389082\n",
       " 1    0.012840\n",
       " 2    0.285039\n",
       " 3   -0.023210\n",
       " 4    0.114413\n",
       " dtype: float64)"
      ]
     },
     "execution_count": 96,
     "metadata": {},
     "output_type": "execute_result"
    }
   ],
   "source": [
    "avg_standardized_movie_ratings, avg_standardized_user_ratings"
   ]
  },
  {
   "cell_type": "markdown",
   "id": "9d585e5c-782a-4039-b958-b420810a3bc3",
   "metadata": {},
   "source": [
    "Standardization is particularly useful when you want to compare variables that are on different scales or have different ranges. It transforms all variables to have a mean of 0 and a standard deviation of 1, which can be beneficial in many machine learning algorithms and statistical analyses."
   ]
  }
 ],
 "metadata": {
  "kernelspec": {
   "display_name": "Python 3 (ipykernel)",
   "language": "python",
   "name": "python3"
  },
  "language_info": {
   "codemirror_mode": {
    "name": "ipython",
    "version": 3
   },
   "file_extension": ".py",
   "mimetype": "text/x-python",
   "name": "python",
   "nbconvert_exporter": "python",
   "pygments_lexer": "ipython3",
   "version": "3.12.4"
  }
 },
 "nbformat": 4,
 "nbformat_minor": 5
}
