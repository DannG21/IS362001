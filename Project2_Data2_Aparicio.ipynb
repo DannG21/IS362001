{
 "cells": [
  {
   "cell_type": "code",
   "execution_count": 1,
   "id": "43c1f36e-bbca-483a-97db-ab9b6a6e11e6",
   "metadata": {},
   "outputs": [],
   "source": [
    "import pandas as pd"
   ]
  },
  {
   "cell_type": "code",
   "execution_count": 3,
   "id": "42bcee0c-4bb7-4eae-bdab-17a692636182",
   "metadata": {},
   "outputs": [],
   "source": [
    "file_path = 'C:\\\\Users\\\\danie\\\\Downloads\\\\agcensus-chapter1-table1-US.csv'\n",
    "data = pd.read_csv(file_path)"
   ]
  },
  {
   "cell_type": "code",
   "execution_count": 5,
   "id": "b5402ef1-6bd6-45c6-a341-1807735e5794",
   "metadata": {},
   "outputs": [],
   "source": [
    "year_columns = ['2017', '2012', '2007', '2002', '1997']"
   ]
  },
  {
   "cell_type": "code",
   "execution_count": 7,
   "id": "d12293da-b821-42af-acb0-d762b8331145",
   "metadata": {},
   "outputs": [],
   "source": [
    "for column in year_columns:\n",
    "    data[column] = pd.to_numeric(data[column].str.replace(',', ''), errors='coerce')"
   ]
  },
  {
   "cell_type": "markdown",
   "id": "271a1316-9da7-49d0-97a4-4011b4318edb",
   "metadata": {},
   "source": [
    "The values in the columns for the years 2017, 2012, 2007, 2002, and 1997 have been cleaned to remove commas and converted to numeric format (float). This allows for numerical analysis."
   ]
  },
  {
   "cell_type": "code",
   "execution_count": 9,
   "id": "ac830b53-a986-4aab-b10b-128c2d37ba46",
   "metadata": {},
   "outputs": [
    {
     "name": "stdout",
     "output_type": "stream",
     "text": [
      "<class 'pandas.core.frame.DataFrame'>\n",
      "RangeIndex: 129 entries, 0 to 128\n",
      "Data columns (total 12 columns):\n",
      " #   Column           Non-Null Count  Dtype  \n",
      "---  ------           --------------  -----  \n",
      " 0   state            129 non-null    object \n",
      " 1   state fips       129 non-null    int64  \n",
      " 2   county           0 non-null      float64\n",
      " 3   county code      0 non-null      float64\n",
      " 4   commodity        129 non-null    object \n",
      " 5   data item        129 non-null    object \n",
      " 6   domain category  15 non-null     object \n",
      " 7   2017             128 non-null    float64\n",
      " 8   2012             124 non-null    float64\n",
      " 9   2007             125 non-null    float64\n",
      " 10  2002             125 non-null    float64\n",
      " 11  1997             118 non-null    float64\n",
      "dtypes: float64(7), int64(1), object(4)\n",
      "memory usage: 12.2+ KB\n"
     ]
    }
   ],
   "source": [
    "data.info()"
   ]
  },
  {
   "cell_type": "code",
   "execution_count": 11,
   "id": "edf37838-5e4d-4911-afc2-8107708f34af",
   "metadata": {},
   "outputs": [
    {
     "data": {
      "text/html": [
       "<div>\n",
       "<style scoped>\n",
       "    .dataframe tbody tr th:only-of-type {\n",
       "        vertical-align: middle;\n",
       "    }\n",
       "\n",
       "    .dataframe tbody tr th {\n",
       "        vertical-align: top;\n",
       "    }\n",
       "\n",
       "    .dataframe thead th {\n",
       "        text-align: right;\n",
       "    }\n",
       "</style>\n",
       "<table border=\"1\" class=\"dataframe\">\n",
       "  <thead>\n",
       "    <tr style=\"text-align: right;\">\n",
       "      <th></th>\n",
       "      <th>state</th>\n",
       "      <th>state fips</th>\n",
       "      <th>county</th>\n",
       "      <th>county code</th>\n",
       "      <th>commodity</th>\n",
       "      <th>data item</th>\n",
       "      <th>domain category</th>\n",
       "      <th>2017</th>\n",
       "      <th>2012</th>\n",
       "      <th>2007</th>\n",
       "      <th>2002</th>\n",
       "      <th>1997</th>\n",
       "    </tr>\n",
       "  </thead>\n",
       "  <tbody>\n",
       "    <tr>\n",
       "      <th>0</th>\n",
       "      <td>US TOTAL</td>\n",
       "      <td>99</td>\n",
       "      <td>NaN</td>\n",
       "      <td>NaN</td>\n",
       "      <td>FARM OPERATIONS</td>\n",
       "      <td>FARM OPERATIONS - NUMBER OF OPERATIONS</td>\n",
       "      <td>NaN</td>\n",
       "      <td>2042220.0</td>\n",
       "      <td>2109303.0</td>\n",
       "      <td>2204792.0</td>\n",
       "      <td>2128982.0</td>\n",
       "      <td>2215876.0</td>\n",
       "    </tr>\n",
       "    <tr>\n",
       "      <th>1</th>\n",
       "      <td>US TOTAL</td>\n",
       "      <td>99</td>\n",
       "      <td>NaN</td>\n",
       "      <td>NaN</td>\n",
       "      <td>FARM OPERATIONS</td>\n",
       "      <td>FARM OPERATIONS - NUMBER OF OPERATIONS</td>\n",
       "      <td>AREA OPERATED: (1.0 TO 9.9 ACRES)</td>\n",
       "      <td>273325.0</td>\n",
       "      <td>223634.0</td>\n",
       "      <td>232849.0</td>\n",
       "      <td>179346.0</td>\n",
       "      <td>205390.0</td>\n",
       "    </tr>\n",
       "    <tr>\n",
       "      <th>2</th>\n",
       "      <td>US TOTAL</td>\n",
       "      <td>99</td>\n",
       "      <td>NaN</td>\n",
       "      <td>NaN</td>\n",
       "      <td>FARM OPERATIONS</td>\n",
       "      <td>FARM OPERATIONS - NUMBER OF OPERATIONS</td>\n",
       "      <td>AREA OPERATED: (10.0 TO 49.9 ACRES)</td>\n",
       "      <td>583001.0</td>\n",
       "      <td>589549.0</td>\n",
       "      <td>620283.0</td>\n",
       "      <td>563772.0</td>\n",
       "      <td>530902.0</td>\n",
       "    </tr>\n",
       "    <tr>\n",
       "      <th>3</th>\n",
       "      <td>US TOTAL</td>\n",
       "      <td>99</td>\n",
       "      <td>NaN</td>\n",
       "      <td>NaN</td>\n",
       "      <td>FARM OPERATIONS</td>\n",
       "      <td>FARM OPERATIONS - NUMBER OF OPERATIONS</td>\n",
       "      <td>AREA OPERATED: (50 TO 179 ACRES)</td>\n",
       "      <td>564763.0</td>\n",
       "      <td>634047.0</td>\n",
       "      <td>660530.0</td>\n",
       "      <td>658705.0</td>\n",
       "      <td>694489.0</td>\n",
       "    </tr>\n",
       "    <tr>\n",
       "      <th>4</th>\n",
       "      <td>US TOTAL</td>\n",
       "      <td>99</td>\n",
       "      <td>NaN</td>\n",
       "      <td>NaN</td>\n",
       "      <td>FARM OPERATIONS</td>\n",
       "      <td>FARM OPERATIONS - NUMBER OF OPERATIONS</td>\n",
       "      <td>AREA OPERATED: (180 TO 499 ACRES)</td>\n",
       "      <td>315017.0</td>\n",
       "      <td>346038.0</td>\n",
       "      <td>368368.0</td>\n",
       "      <td>388617.0</td>\n",
       "      <td>428215.0</td>\n",
       "    </tr>\n",
       "  </tbody>\n",
       "</table>\n",
       "</div>"
      ],
      "text/plain": [
       "      state  state fips  county  county code        commodity  \\\n",
       "0  US TOTAL          99     NaN          NaN  FARM OPERATIONS   \n",
       "1  US TOTAL          99     NaN          NaN  FARM OPERATIONS   \n",
       "2  US TOTAL          99     NaN          NaN  FARM OPERATIONS   \n",
       "3  US TOTAL          99     NaN          NaN  FARM OPERATIONS   \n",
       "4  US TOTAL          99     NaN          NaN  FARM OPERATIONS   \n",
       "\n",
       "                                data item  \\\n",
       "0  FARM OPERATIONS - NUMBER OF OPERATIONS   \n",
       "1  FARM OPERATIONS - NUMBER OF OPERATIONS   \n",
       "2  FARM OPERATIONS - NUMBER OF OPERATIONS   \n",
       "3  FARM OPERATIONS - NUMBER OF OPERATIONS   \n",
       "4  FARM OPERATIONS - NUMBER OF OPERATIONS   \n",
       "\n",
       "                       domain category       2017       2012       2007  \\\n",
       "0                                  NaN  2042220.0  2109303.0  2204792.0   \n",
       "1    AREA OPERATED: (1.0 TO 9.9 ACRES)   273325.0   223634.0   232849.0   \n",
       "2  AREA OPERATED: (10.0 TO 49.9 ACRES)   583001.0   589549.0   620283.0   \n",
       "3     AREA OPERATED: (50 TO 179 ACRES)   564763.0   634047.0   660530.0   \n",
       "4    AREA OPERATED: (180 TO 499 ACRES)   315017.0   346038.0   368368.0   \n",
       "\n",
       "        2002       1997  \n",
       "0  2128982.0  2215876.0  \n",
       "1   179346.0   205390.0  \n",
       "2   563772.0   530902.0  \n",
       "3   658705.0   694489.0  \n",
       "4   388617.0   428215.0  "
      ]
     },
     "execution_count": 11,
     "metadata": {},
     "output_type": "execute_result"
    }
   ],
   "source": [
    "data.head()"
   ]
  },
  {
   "cell_type": "markdown",
   "id": "f13347f1-5d7d-4f0f-ada3-d2c246aa15a9",
   "metadata": {},
   "source": [
    "Analysis Possibilities:\n",
    "- We could analyze trends in the number of farm operations over time across different farm sizes.\n",
    "- If we filter for specific states, we can compare how farming operations have evolved in different areas.\n",
    "- Evaluating how farm sizes have shifted, indicating changes in farm structure (e.g., growth of small farms versus consolidation into larger operations)."
   ]
  },
  {
   "cell_type": "markdown",
   "id": "ad70cbef-9447-4f69-8cb6-b912566c3202",
   "metadata": {},
   "source": [
    "There's an overall decline in the number of farm operations from 1997 to 2017, indicating possible consolidation or a reduction in the number of active farms.\n",
    "Smaller farm categories (e.g., 1-9.9 acres) may show different trends than larger categories, reflecting changing farming practices."
   ]
  }
 ],
 "metadata": {
  "kernelspec": {
   "display_name": "Python 3 (ipykernel)",
   "language": "python",
   "name": "python3"
  },
  "language_info": {
   "codemirror_mode": {
    "name": "ipython",
    "version": 3
   },
   "file_extension": ".py",
   "mimetype": "text/x-python",
   "name": "python",
   "nbconvert_exporter": "python",
   "pygments_lexer": "ipython3",
   "version": "3.12.4"
  }
 },
 "nbformat": 4,
 "nbformat_minor": 5
}
