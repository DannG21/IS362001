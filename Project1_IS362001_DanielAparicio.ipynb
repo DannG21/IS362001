{
 "cells": [
  {
   "cell_type": "code",
   "execution_count": 18,
   "id": "1a3882f5-46e6-40d0-a8a0-f4abae31aa7c",
   "metadata": {},
   "outputs": [],
   "source": [
    "import csv"
   ]
  },
  {
   "cell_type": "code",
   "execution_count": 20,
   "id": "25c15c5c-99bb-4b48-ad1e-18de6841bad2",
   "metadata": {},
   "outputs": [],
   "source": [
    "import pandas as pd"
   ]
  },
  {
   "cell_type": "code",
   "execution_count": 26,
   "id": "4c2ab4ae-d548-4723-8052-dcc951498771",
   "metadata": {},
   "outputs": [],
   "source": [
    "airline_data=pd.read_csv(\"C:\\\\Users\\\\danie\\\\Downloads\\\\airline_delays.csv\")"
   ]
  },
  {
   "cell_type": "code",
   "execution_count": 28,
   "id": "0dbcbb8c-aa37-42c7-956c-1472df482978",
   "metadata": {},
   "outputs": [
    {
     "data": {
      "text/html": [
       "<div>\n",
       "<style scoped>\n",
       "    .dataframe tbody tr th:only-of-type {\n",
       "        vertical-align: middle;\n",
       "    }\n",
       "\n",
       "    .dataframe tbody tr th {\n",
       "        vertical-align: top;\n",
       "    }\n",
       "\n",
       "    .dataframe thead th {\n",
       "        text-align: right;\n",
       "    }\n",
       "</style>\n",
       "<table border=\"1\" class=\"dataframe\">\n",
       "  <thead>\n",
       "    <tr style=\"text-align: right;\">\n",
       "      <th></th>\n",
       "      <th>City</th>\n",
       "      <th>Alaska_On_Time</th>\n",
       "      <th>Alaska_Delay</th>\n",
       "      <th>AM WEST_On_Time</th>\n",
       "      <th>AM WEST_Delay</th>\n",
       "    </tr>\n",
       "  </thead>\n",
       "  <tbody>\n",
       "    <tr>\n",
       "      <th>0</th>\n",
       "      <td>Los Angeles</td>\n",
       "      <td>520</td>\n",
       "      <td>54</td>\n",
       "      <td>745</td>\n",
       "      <td>136</td>\n",
       "    </tr>\n",
       "    <tr>\n",
       "      <th>1</th>\n",
       "      <td>Pheonix</td>\n",
       "      <td>118</td>\n",
       "      <td>23</td>\n",
       "      <td>2560</td>\n",
       "      <td>353</td>\n",
       "    </tr>\n",
       "    <tr>\n",
       "      <th>2</th>\n",
       "      <td>San Diego</td>\n",
       "      <td>318</td>\n",
       "      <td>694</td>\n",
       "      <td>4840</td>\n",
       "      <td>383</td>\n",
       "    </tr>\n",
       "    <tr>\n",
       "      <th>3</th>\n",
       "      <td>San Francisco</td>\n",
       "      <td>605</td>\n",
       "      <td>105</td>\n",
       "      <td>360</td>\n",
       "      <td>65</td>\n",
       "    </tr>\n",
       "    <tr>\n",
       "      <th>4</th>\n",
       "      <td>Seattle</td>\n",
       "      <td>2400</td>\n",
       "      <td>376</td>\n",
       "      <td>200</td>\n",
       "      <td>32</td>\n",
       "    </tr>\n",
       "  </tbody>\n",
       "</table>\n",
       "</div>"
      ],
      "text/plain": [
       "            City  Alaska_On_Time  Alaska_Delay  AM WEST_On_Time  AM WEST_Delay\n",
       "0    Los Angeles             520            54              745            136\n",
       "1        Pheonix             118            23             2560            353\n",
       "2      San Diego             318           694             4840            383\n",
       "3  San Francisco             605           105              360             65\n",
       "4        Seattle            2400           376              200             32"
      ]
     },
     "execution_count": 28,
     "metadata": {},
     "output_type": "execute_result"
    }
   ],
   "source": [
    "airline_data.head()"
   ]
  },
  {
   "cell_type": "code",
   "execution_count": null,
   "id": "209aeb23-80b2-4a1d-8cfe-3874fc725fa1",
   "metadata": {},
   "outputs": [],
   "source": [
    "#The dataset includes the number of on-time and delayed flights for Alaska and AM West airlines across five cities. \n",
    "#I first calculated the total number of flights (on-time and delayed) for each airline, followed by the percentage of delayed flights."
   ]
  },
  {
   "cell_type": "code",
   "execution_count": 30,
   "id": "49cced58-a997-45a8-a00b-341dc7dc6085",
   "metadata": {},
   "outputs": [
    {
     "data": {
      "text/plain": [
       "0     9.407666\n",
       "1    16.312057\n",
       "2    68.577075\n",
       "3    14.788732\n",
       "4    13.544669\n",
       "Name: Alaska_Percent_Delay, dtype: float64"
      ]
     },
     "execution_count": 30,
     "metadata": {},
     "output_type": "execute_result"
    }
   ],
   "source": [
    "airline_data['Total_Alaska_Flights'] = airline_data['Alaska_On_Time'] + airline_data['Alaska_Delay']\n",
    "\n",
    "airline_data['Alaska_Percent_Delay'] = (airline_data['Alaska_Delay'] / airline_data['Total_Alaska_Flights']) * 100\n",
    "\n",
    "airline_data['Alaska_Percent_Delay']"
   ]
  },
  {
   "cell_type": "code",
   "execution_count": 32,
   "id": "c2f9d042-3672-46ed-ae48-904678cbad97",
   "metadata": {},
   "outputs": [
    {
     "data": {
      "text/plain": [
       "0    15.437003\n",
       "1    12.118091\n",
       "2     7.332950\n",
       "3    15.294118\n",
       "4    13.793103\n",
       "Name: AMWest_Percent_Delay, dtype: float64"
      ]
     },
     "execution_count": 32,
     "metadata": {},
     "output_type": "execute_result"
    }
   ],
   "source": [
    "airline_data['Total_AMWest'] = airline_data['AM WEST_Delay'] + airline_data['AM WEST_On_Time']\n",
    "\n",
    "airline_data['AMWest_Percent_Delay'] = (airline_data['AM WEST_Delay'] / airline_data['Total_AMWest']) * 100\n",
    "\n",
    "airline_data['AMWest_Percent_Delay']"
   ]
  },
  {
   "cell_type": "code",
   "execution_count": null,
   "id": "d08f2747-1316-4a06-8b68-02392c1a4224",
   "metadata": {},
   "outputs": [],
   "source": [
    "#The total number of flights for Alaska Airlines and AM West Airlines is the sum of on-time and delayed flights. \n",
    "#The percentage delay values for Alaska and AM West Airlines at each destination are as follows:\n",
    "#Alaska Airlines:\n",
    "#Los Angeles: 9.41%\n",
    "#Phoenix: 16.31%\n",
    "#San Diego: 68.58%\n",
    "#San Francisco: 14.79%\n",
    "#Seattle: 13.54%\n",
    "#AM West Airlines:\n",
    "#Los Angeles: 15.44%\n",
    "#Phoenix: 12.12%\n",
    "#San Diego: 7.33%\n",
    "#San Francisco: 15.29%\n",
    "#Seattle: 13.79%"
   ]
  },
  {
   "cell_type": "code",
   "execution_count": 34,
   "id": "364863d3-0b49-44f9-a0ad-d9f02186ac51",
   "metadata": {},
   "outputs": [
    {
     "data": {
      "text/html": [
       "<div>\n",
       "<style scoped>\n",
       "    .dataframe tbody tr th:only-of-type {\n",
       "        vertical-align: middle;\n",
       "    }\n",
       "\n",
       "    .dataframe tbody tr th {\n",
       "        vertical-align: top;\n",
       "    }\n",
       "\n",
       "    .dataframe thead th {\n",
       "        text-align: right;\n",
       "    }\n",
       "</style>\n",
       "<table border=\"1\" class=\"dataframe\">\n",
       "  <thead>\n",
       "    <tr style=\"text-align: right;\">\n",
       "      <th></th>\n",
       "      <th>Alaska_Percent_Delay</th>\n",
       "      <th>AMWest_Percent_Delay</th>\n",
       "    </tr>\n",
       "  </thead>\n",
       "  <tbody>\n",
       "    <tr>\n",
       "      <th>0</th>\n",
       "      <td>9.407666</td>\n",
       "      <td>15.437003</td>\n",
       "    </tr>\n",
       "    <tr>\n",
       "      <th>1</th>\n",
       "      <td>16.312057</td>\n",
       "      <td>12.118091</td>\n",
       "    </tr>\n",
       "    <tr>\n",
       "      <th>2</th>\n",
       "      <td>68.577075</td>\n",
       "      <td>7.332950</td>\n",
       "    </tr>\n",
       "    <tr>\n",
       "      <th>3</th>\n",
       "      <td>14.788732</td>\n",
       "      <td>15.294118</td>\n",
       "    </tr>\n",
       "    <tr>\n",
       "      <th>4</th>\n",
       "      <td>13.544669</td>\n",
       "      <td>13.793103</td>\n",
       "    </tr>\n",
       "  </tbody>\n",
       "</table>\n",
       "</div>"
      ],
      "text/plain": [
       "   Alaska_Percent_Delay  AMWest_Percent_Delay\n",
       "0              9.407666             15.437003\n",
       "1             16.312057             12.118091\n",
       "2             68.577075              7.332950\n",
       "3             14.788732             15.294118\n",
       "4             13.544669             13.793103"
      ]
     },
     "execution_count": 34,
     "metadata": {},
     "output_type": "execute_result"
    }
   ],
   "source": [
    "airline_data[['Alaska_Percent_Delay', 'AMWest_Percent_Delay']]"
   ]
  },
  {
   "cell_type": "code",
   "execution_count": null,
   "id": "6f57e243-17e0-41d7-90b5-d7aed2581a98",
   "metadata": {},
   "outputs": [],
   "source": [
    "#Upon reviewing the data, we can see that the delay percentages vary significantly between the two airlines across different cities:\n",
    "#In Los Angeles, Alaska Airlines has a lower delay rate (9.41%) compared to AM West (15.44%).\n",
    "#In Phoenix, Alaska Airlines has a higher delay rate (16.31%) than AM West (12.12%).\n",
    "#In San Diego, Alaska Airlines shows a much higher delay percentage (68.58%) compared to AM West (7.33%).\n",
    "#In San Francisco, both airlines have similar delay percentages (Alaska: 14.79%, AM West: 15.29%).\n",
    "#In Seattle, the delay percentages are also quite close (Alaska: 13.54%, AM West: 13.79%)."
   ]
  },
  {
   "cell_type": "code",
   "execution_count": 36,
   "id": "5a92c1a6-6c25-4c4e-a172-e01baa7774a7",
   "metadata": {},
   "outputs": [
    {
     "data": {
      "text/plain": [
       "0    AMWest\n",
       "1    Alaska\n",
       "2    Alaska\n",
       "3    AMWest\n",
       "4    AMWest\n",
       "Name: Most_Delayed_Airline, dtype: object"
      ]
     },
     "execution_count": 36,
     "metadata": {},
     "output_type": "execute_result"
    }
   ],
   "source": [
    "for index, row in airline_data.iterrows():\n",
    "    if row[\"Alaska_Percent_Delay\"] > row[\"AMWest_Percent_Delay\"]:\n",
    "        airline_data.loc[index, 'Most_Delayed_Airline'] = 'Alaska'\n",
    "    else:\n",
    "        airline_data.loc[index, 'Most_Delayed_Airline'] = 'AMWest'\n",
    "\n",
    "airline_data['Most_Delayed_Airline']"
   ]
  },
  {
   "cell_type": "code",
   "execution_count": null,
   "id": "a1e2bea0-b1e2-405e-98c7-ce5708ffd0fb",
   "metadata": {},
   "outputs": [],
   "source": [
    "#A comparison of the delay percentages reveals that Alaska Airlines is the most delayed airline in two cities (Phoenix and San Diego), where as AM West Airlines experiences more delays in Los Angeles, San Francisco, and Seattle.\n",
    "#The Most_Delayed_Airline column confirms the results:\n",
    "#AM West is more delayed in Los Angeles, San Francisco, and Seattle.\n",
    "#Alaska Airlines has a higher delay percentage in Phoenix and San Diego."
   ]
  },
  {
   "cell_type": "code",
   "execution_count": 38,
   "id": "7e044b15-f9eb-4e1e-82b4-2d63b9f8d925",
   "metadata": {},
   "outputs": [
    {
     "data": {
      "text/html": [
       "<div>\n",
       "<style scoped>\n",
       "    .dataframe tbody tr th:only-of-type {\n",
       "        vertical-align: middle;\n",
       "    }\n",
       "\n",
       "    .dataframe tbody tr th {\n",
       "        vertical-align: top;\n",
       "    }\n",
       "\n",
       "    .dataframe thead th {\n",
       "        text-align: right;\n",
       "    }\n",
       "</style>\n",
       "<table border=\"1\" class=\"dataframe\">\n",
       "  <thead>\n",
       "    <tr style=\"text-align: right;\">\n",
       "      <th></th>\n",
       "      <th>City</th>\n",
       "      <th>Alaska_On_Time</th>\n",
       "      <th>Alaska_Delay</th>\n",
       "      <th>AM WEST_On_Time</th>\n",
       "      <th>AM WEST_Delay</th>\n",
       "      <th>Total_Alaska_Flights</th>\n",
       "      <th>Alaska_Percent_Delay</th>\n",
       "      <th>Total_AMWest</th>\n",
       "      <th>AMWest_Percent_Delay</th>\n",
       "      <th>Most_Delayed_Airline</th>\n",
       "    </tr>\n",
       "  </thead>\n",
       "  <tbody>\n",
       "    <tr>\n",
       "      <th>0</th>\n",
       "      <td>Los Angeles</td>\n",
       "      <td>520</td>\n",
       "      <td>54</td>\n",
       "      <td>745</td>\n",
       "      <td>136</td>\n",
       "      <td>574</td>\n",
       "      <td>9.407666</td>\n",
       "      <td>881</td>\n",
       "      <td>15.437003</td>\n",
       "      <td>AMWest</td>\n",
       "    </tr>\n",
       "    <tr>\n",
       "      <th>1</th>\n",
       "      <td>Pheonix</td>\n",
       "      <td>118</td>\n",
       "      <td>23</td>\n",
       "      <td>2560</td>\n",
       "      <td>353</td>\n",
       "      <td>141</td>\n",
       "      <td>16.312057</td>\n",
       "      <td>2913</td>\n",
       "      <td>12.118091</td>\n",
       "      <td>Alaska</td>\n",
       "    </tr>\n",
       "    <tr>\n",
       "      <th>2</th>\n",
       "      <td>San Diego</td>\n",
       "      <td>318</td>\n",
       "      <td>694</td>\n",
       "      <td>4840</td>\n",
       "      <td>383</td>\n",
       "      <td>1012</td>\n",
       "      <td>68.577075</td>\n",
       "      <td>5223</td>\n",
       "      <td>7.332950</td>\n",
       "      <td>Alaska</td>\n",
       "    </tr>\n",
       "    <tr>\n",
       "      <th>3</th>\n",
       "      <td>San Francisco</td>\n",
       "      <td>605</td>\n",
       "      <td>105</td>\n",
       "      <td>360</td>\n",
       "      <td>65</td>\n",
       "      <td>710</td>\n",
       "      <td>14.788732</td>\n",
       "      <td>425</td>\n",
       "      <td>15.294118</td>\n",
       "      <td>AMWest</td>\n",
       "    </tr>\n",
       "    <tr>\n",
       "      <th>4</th>\n",
       "      <td>Seattle</td>\n",
       "      <td>2400</td>\n",
       "      <td>376</td>\n",
       "      <td>200</td>\n",
       "      <td>32</td>\n",
       "      <td>2776</td>\n",
       "      <td>13.544669</td>\n",
       "      <td>232</td>\n",
       "      <td>13.793103</td>\n",
       "      <td>AMWest</td>\n",
       "    </tr>\n",
       "  </tbody>\n",
       "</table>\n",
       "</div>"
      ],
      "text/plain": [
       "            City  Alaska_On_Time  Alaska_Delay  AM WEST_On_Time  \\\n",
       "0    Los Angeles             520            54              745   \n",
       "1        Pheonix             118            23             2560   \n",
       "2      San Diego             318           694             4840   \n",
       "3  San Francisco             605           105              360   \n",
       "4        Seattle            2400           376              200   \n",
       "\n",
       "   AM WEST_Delay  Total_Alaska_Flights  Alaska_Percent_Delay  Total_AMWest  \\\n",
       "0            136                   574              9.407666           881   \n",
       "1            353                   141             16.312057          2913   \n",
       "2            383                  1012             68.577075          5223   \n",
       "3             65                   710             14.788732           425   \n",
       "4             32                  2776             13.544669           232   \n",
       "\n",
       "   AMWest_Percent_Delay Most_Delayed_Airline  \n",
       "0             15.437003               AMWest  \n",
       "1             12.118091               Alaska  \n",
       "2              7.332950               Alaska  \n",
       "3             15.294118               AMWest  \n",
       "4             13.793103               AMWest  "
      ]
     },
     "execution_count": 38,
     "metadata": {},
     "output_type": "execute_result"
    }
   ],
   "source": [
    "airline_data"
   ]
  },
  {
   "cell_type": "code",
   "execution_count": null,
   "id": "23da2d1c-0101-4d5b-aa4c-03da1c82b283",
   "metadata": {},
   "outputs": [],
   "source": [
    "#In San Diego, Alaska Airlines has a significantly higher delay rate (68.58%) compared to AM West (7.33%), indicating major issues with Alaska's performance at this destination.\n",
    "#In Los Angeles and Seattle, the delay rates for AM West are slightly higher than Alaska’s, though the differences are not as extreme.\n",
    "#Alaska Airlines' on-time performance is generally better in Los Angeles, while AM West struggles more across multiple destinations.\n",
    "#Overall, the results suggest that while AM West tends to experience more delays overall, Alaska Airlines has specific cities where it struggles, particularly in San Diego."
   ]
  }
 ],
 "metadata": {
  "kernelspec": {
   "display_name": "Python 3 (ipykernel)",
   "language": "python",
   "name": "python3"
  },
  "language_info": {
   "codemirror_mode": {
    "name": "ipython",
    "version": 3
   },
   "file_extension": ".py",
   "mimetype": "text/x-python",
   "name": "python",
   "nbconvert_exporter": "python",
   "pygments_lexer": "ipython3",
   "version": "3.12.4"
  }
 },
 "nbformat": 4,
 "nbformat_minor": 5
}
