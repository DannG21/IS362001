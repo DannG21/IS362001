{
 "cells": [
  {
   "cell_type": "code",
   "execution_count": null,
   "id": "e1a8fd34-3be9-43f7-9897-5f48827854d9",
   "metadata": {},
   "outputs": [],
   "source": [
    "zip() Function Overview and Challenges\n",
    "The zip() function in Python takes two or more iterables and returns an iterator of tuples. Each tuple contains elements at the same index from each iterable. \n",
    "However, it can sometimes be tricky when dealing with unevenly sized iterables, as zip() stops at the shortest iterable. Understanding its use and challenges will improve your data manipulation skills.\n",
    "\n",
    "  An example of the zip() function would be:"
   ]
  },
  {
   "cell_type": "code",
   "execution_count": 3,
   "id": "40f5493b-e3d7-495a-89ff-63a75c03f974",
   "metadata": {},
   "outputs": [
    {
     "data": {
      "text/plain": [
       "[(1, 'a'), (2, 'b'), (3, 'c')]"
      ]
     },
     "execution_count": 3,
     "metadata": {},
     "output_type": "execute_result"
    }
   ],
   "source": [
    "list1 = [1, 2, 3]\n",
    "list2 = ['a', 'b', 'c']\n",
    "\n",
    "# Zip the two lists together\n",
    "zipped = zip(list1, list2)\n",
    "\n",
    "# Convert to a list to view the zipped output\n",
    "list(zipped)"
   ]
  },
  {
   "cell_type": "code",
   "execution_count": null,
   "id": "2132ce8a-18d6-46c5-811f-64bf51ee1f4f",
   "metadata": {},
   "outputs": [],
   "source": [
    "As shown, zip() has combined the two lists element wise. The result is an iterator, so converting it to a list shows the tuples of paired values from list1 and list2.\n",
    "\n",
    "The tricky part comes when the iterables are of uneven length and by default, zip() will stop once the shortest iterable is exhausted."
   ]
  },
  {
   "cell_type": "code",
   "execution_count": 4,
   "id": "10d65074-68e8-4f69-8e97-e853728123b1",
   "metadata": {},
   "outputs": [
    {
     "data": {
      "text/plain": [
       "[(1, 'a'), (2, 'b')]"
      ]
     },
     "execution_count": 4,
     "metadata": {},
     "output_type": "execute_result"
    }
   ],
   "source": [
    "list1 = [1, 2, 3, 4]\n",
    "list2 = ['a', 'b']\n",
    "\n",
    "# Zip the lists\n",
    "zipped_uneven = zip(list1, list2)\n",
    "\n",
    "# Convert to a list to view the result\n",
    "list(zipped_uneven)"
   ]
  },
  {
   "cell_type": "code",
   "execution_count": null,
   "id": "2bff9de6-7ce4-45fc-8d70-f9889ff23e10",
   "metadata": {},
   "outputs": [],
   "source": [
    "As you can see, zip() stops when the shortest iterable (list2) runs out of elements.\n",
    "\n",
    "Handling Uneven Iterables: To handle uneven iterables, we can use `itertools.zip_longest()`, which allows us to zip to the longest iterable by filling missing values with a default value (like `None`)."
   ]
  },
  {
   "cell_type": "code",
   "execution_count": 5,
   "id": "b5d49342-0cd8-4553-8bc1-82b3c47edc12",
   "metadata": {},
   "outputs": [
    {
     "data": {
      "text/plain": [
       "[(1, 'a'), (2, 'b'), (3, 'Missing'), (4, 'Missing')]"
      ]
     },
     "execution_count": 5,
     "metadata": {},
     "output_type": "execute_result"
    }
   ],
   "source": [
    "from itertools import zip_longest\n",
    "\n",
    "# Using zip_longest to handle uneven lists\n",
    "zipped_longest = zip_longest(list1, list2, fillvalue='Missing')\n",
    "\n",
    "# Convert to a list to view the result\n",
    "list(zipped_longest)"
   ]
  },
  {
   "cell_type": "code",
   "execution_count": null,
   "id": "f495793b-4a84-4edf-ad94-3f279bc65dce",
   "metadata": {},
   "outputs": [],
   "source": [
    "Then using `zip_longest()`, we can fill in the missing values when one iterable is shorter than the other.\n",
    "\n",
    "What zip() excels is when working with parallel data, such as combining columns in a table, iterating over multiple streams simultaneously, or even creating dictionaries from two lists."
   ]
  },
  {
   "cell_type": "code",
   "execution_count": 7,
   "id": "42175999-e01b-4b36-b7bc-85ca3fe90f56",
   "metadata": {},
   "outputs": [
    {
     "data": {
      "text/plain": [
       "{'name': 'Gaby', 'age': 27, 'job': 'Engineer'}"
      ]
     },
     "execution_count": 7,
     "metadata": {},
     "output_type": "execute_result"
    }
   ],
   "source": [
    "# Dictionary using zip\n",
    "keys = ['name', 'age', 'job']\n",
    "values = ['Gaby', 27, 'Engineer']\n",
    "\n",
    "# Zip keys and values together to form a dictionary\n",
    "dictionary = dict(zip(keys, values))\n",
    "dictionary"
   ]
  },
  {
   "cell_type": "code",
   "execution_count": null,
   "id": "88719c65-858f-49fe-ab37-c92681419cc1",
   "metadata": {},
   "outputs": [],
   "source": [
    "As shown, zip() was used to pair the keys and values, which were then converted into a dictionary.\n",
    "\n",
    "Although the zip() function is very useful, it requires care when handling iterables of different lengths. Using `itertools.zip_longest()` can help in these cases by ensuring that no data is lost."
   ]
  }
 ],
 "metadata": {
  "kernelspec": {
   "display_name": "Python 3 (ipykernel)",
   "language": "python",
   "name": "python3"
  },
  "language_info": {
   "codemirror_mode": {
    "name": "ipython",
    "version": 3
   },
   "file_extension": ".py",
   "mimetype": "text/x-python",
   "name": "python",
   "nbconvert_exporter": "python",
   "pygments_lexer": "ipython3",
   "version": "3.12.6"
  }
 },
 "nbformat": 4,
 "nbformat_minor": 5
}
