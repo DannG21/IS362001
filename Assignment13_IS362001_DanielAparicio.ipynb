{
 "cells": [
  {
   "cell_type": "code",
   "execution_count": 78,
   "id": "7f517d42-1284-4a7f-9761-325b5cf8d1c8",
   "metadata": {},
   "outputs": [],
   "source": [
    "import requests\n",
    "import pandas as pd"
   ]
  },
  {
   "cell_type": "code",
   "execution_count": 80,
   "id": "7901a951-e408-49b5-ba3c-2ea4f1e9205e",
   "metadata": {},
   "outputs": [],
   "source": [
    "# Define the API key and endpoint\n",
    "api_key = 'vcNlgawSMtmcZLrl1aM8OrlaiSAN4MIV'  # Replace with your actual NYT API key\n",
    "base_url = \"https://api.nytimes.com/svc/search/v2/articlesearch.json\""
   ]
  },
  {
   "cell_type": "code",
   "execution_count": 82,
   "id": "610a68f2-dd15-4c63-b23c-da61c79d6c58",
   "metadata": {},
   "outputs": [],
   "source": [
    "# Set the search parameters (for example, search articles from 2020)\n",
    "params = {\n",
    "    'q': 'climate change',  # Search term\n",
    "    'begin_date': '20200101',  # Start date (YYYYMMDD)\n",
    "    'end_date': '20201231',  # End date (YYYYMMDD)\n",
    "    'api-key': api_key\n",
    "}"
   ]
  },
  {
   "cell_type": "code",
   "execution_count": 84,
   "id": "1703fc50-8fbd-42b8-9889-49bd4d1de3eb",
   "metadata": {},
   "outputs": [],
   "source": [
    "# Fetch data from the API\n",
    "response = requests.get(base_url, params=params)"
   ]
  },
  {
   "cell_type": "code",
   "execution_count": 86,
   "id": "fcb4ef50-0cb9-4369-9cfa-11e4f56a21fe",
   "metadata": {},
   "outputs": [
    {
     "name": "stdout",
     "output_type": "stream",
     "text": [
      "                                            abstract  \\\n",
      "0  The legislation calls for cutting the use of p...   \n",
      "1  The very ice melt he warned would threaten the...   \n",
      "2  His administration’s staffing shows how seriou...   \n",
      "3  The president-elect said he has chosen a team ...   \n",
      "4  President-elect Joseph R. Biden Jr.'s energy a...   \n",
      "\n",
      "                                             web_url  \\\n",
      "0  https://www.nytimes.com/2020/12/21/climate/cli...   \n",
      "1  https://www.nytimes.com/interactive/2020/12/23...   \n",
      "2  https://www.nytimes.com/2020/12/28/opinion/bid...   \n",
      "3  https://www.nytimes.com/2020/12/19/climate/bid...   \n",
      "4  https://www.nytimes.com/2020/12/03/climate/bid...   \n",
      "\n",
      "                                             snippet  \\\n",
      "0  The legislation calls for cutting the use of p...   \n",
      "1  The very ice melt he warned would threaten the...   \n",
      "2  His administration’s staffing shows how seriou...   \n",
      "3  The president-elect said he has chosen a team ...   \n",
      "4  President-elect Joseph R. Biden Jr.'s energy a...   \n",
      "\n",
      "                                      lead_paragraph print_section print_page  \\\n",
      "0  WASHINGTON — In the waning days of the 116th C...             A         20   \n",
      "1  The very ice melt he warned would threaten the...           NaN        NaN   \n",
      "2  As President-elect Joe Biden rolls out his cli...             A         18   \n",
      "3  WASHINGTON — President-elect Joseph R. Biden J...             A         23   \n",
      "4  WASHINGTON — President-elect Joseph R. Biden J...             A         15   \n",
      "\n",
      "               source                                         multimedia  \\\n",
      "0  The New York Times  [{'rank': 0, 'subtype': 'xlarge', 'caption': N...   \n",
      "1  The New York Times  [{'rank': 0, 'subtype': 'xlarge', 'caption': N...   \n",
      "2  The New York Times  [{'rank': 0, 'subtype': 'xlarge', 'caption': N...   \n",
      "3  The New York Times  [{'rank': 0, 'subtype': 'xlarge', 'caption': N...   \n",
      "4  The New York Times  [{'rank': 0, 'subtype': 'xlarge', 'caption': N...   \n",
      "\n",
      "                                            keywords  \\\n",
      "0  [{'name': 'subject', 'value': 'Global Warming'...   \n",
      "1  [{'name': 'subject', 'value': 'Global Warming'...   \n",
      "2  [{'name': 'persons', 'value': 'Biden, Joseph R...   \n",
      "3  [{'name': 'persons', 'value': 'Biden, Joseph R...   \n",
      "4  [{'name': 'subject', 'value': 'Global Warming'...   \n",
      "\n",
      "                   pub_date  ...  \\\n",
      "0  2020-12-21T10:00:34+0000  ...   \n",
      "1  2020-12-23T10:21:07+0000  ...   \n",
      "2  2020-12-29T00:57:09+0000  ...   \n",
      "3  2020-12-19T19:45:27+0000  ...   \n",
      "4  2020-12-03T16:34:28+0000  ...   \n",
      "\n",
      "                                       headline.main       headline.kicker  \\\n",
      "0  Climate Change Legislation Included in Coronav...                  None   \n",
      "1  Konrad Steffen Was a Prophet of Climate Change...  The Lives They Lived   \n",
      "2           Joe Biden Takes Climate Change Seriously                  None   \n",
      "3                  Biden Introduces His Climate Team                  None   \n",
      "4  Meet Biden’s Energy and Climate Cabinet Conten...                  None   \n",
      "\n",
      "  headline.content_kicker                            headline.print_headline  \\\n",
      "0                    None  Climate Change Legislation Included in Coronav...   \n",
      "1                    None                                               None   \n",
      "2                    None                    A Team That Cares About Climate   \n",
      "3                    None    Biden Unveils Key Picks For Climate Change Team   \n",
      "4                    None     The Task: Curb Climate Change Without Congress   \n",
      "\n",
      "  headline.name  headline.seo headline.sub  \\\n",
      "0          None          None         None   \n",
      "1          None          None         None   \n",
      "2          None          None         None   \n",
      "3          None          None         None   \n",
      "4          None          None         None   \n",
      "\n",
      "                        byline.original  \\\n",
      "0                    By Coral Davenport   \n",
      "1                       By Mark Binelli   \n",
      "2                By The Editorial Board   \n",
      "3                      By Lisa Friedman   \n",
      "4  By Coral Davenport and Lisa Friedman   \n",
      "\n",
      "                                       byline.person  byline.organization  \n",
      "0  [{'firstname': 'Coral', 'middlename': None, 'l...                 None  \n",
      "1  [{'firstname': 'Mark', 'middlename': None, 'la...                 None  \n",
      "2                                                 []  The Editorial Board  \n",
      "3  [{'firstname': 'Lisa', 'middlename': None, 'la...                 None  \n",
      "4  [{'firstname': 'Coral', 'middlename': None, 'l...                 None  \n",
      "\n",
      "[5 rows x 27 columns]\n"
     ]
    }
   ],
   "source": [
    "# Check if the request was successful\n",
    "if response.status_code == 200:\n",
    "    data = response.json()  # Parse the JSON response  \n",
    "    # Extract the list of articles from the response\n",
    "    articles = data['response']['docs'] \n",
    "    # Convert the list of articles into a pandas DataFrame\n",
    "    df = pd.json_normalize(articles)\n",
    "    # Display the DataFrame\n",
    "    print(df.head())  # Print first 5 rows for inspection\n",
    "else:\n",
    "    print(f\"Failed to fetch data: {response.status_code}\")"
   ]
  },
  {
   "cell_type": "code",
   "execution_count": 88,
   "id": "586bd220-f226-4e1f-8ef7-2f2c64130917",
   "metadata": {},
   "outputs": [
    {
     "name": "stdout",
     "output_type": "stream",
     "text": [
      "                                       headline.main  \\\n",
      "0  Climate Change Legislation Included in Coronav...   \n",
      "1  Konrad Steffen Was a Prophet of Climate Change...   \n",
      "2           Joe Biden Takes Climate Change Seriously   \n",
      "3                  Biden Introduces His Climate Team   \n",
      "4  Meet Biden’s Energy and Climate Cabinet Conten...   \n",
      "\n",
      "                   pub_date                                            web_url  \n",
      "0  2020-12-21T10:00:34+0000  https://www.nytimes.com/2020/12/21/climate/cli...  \n",
      "1  2020-12-23T10:21:07+0000  https://www.nytimes.com/interactive/2020/12/23...  \n",
      "2  2020-12-29T00:57:09+0000  https://www.nytimes.com/2020/12/28/opinion/bid...  \n",
      "3  2020-12-19T19:45:27+0000  https://www.nytimes.com/2020/12/19/climate/bid...  \n",
      "4  2020-12-03T16:34:28+0000  https://www.nytimes.com/2020/12/03/climate/bid...  \n"
     ]
    }
   ],
   "source": [
    "# Save the DataFrame to a CSV file\n",
    "df.to_csv('nyt_articles.csv', index=False)\n",
    "# Example of filtering the DataFrame for certain columns\n",
    "df_filtered = df[['headline.main', 'pub_date', 'web_url']]\n",
    "print(df_filtered.head())"
   ]
  }
 ],
 "metadata": {
  "kernelspec": {
   "display_name": "Python 3 (ipykernel)",
   "language": "python",
   "name": "python3"
  },
  "language_info": {
   "codemirror_mode": {
    "name": "ipython",
    "version": 3
   },
   "file_extension": ".py",
   "mimetype": "text/x-python",
   "name": "python",
   "nbconvert_exporter": "python",
   "pygments_lexer": "ipython3",
   "version": "3.12.4"
  }
 },
 "nbformat": 4,
 "nbformat_minor": 5
}
